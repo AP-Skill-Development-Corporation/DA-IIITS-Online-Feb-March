{
 "cells": [
  {
   "cell_type": "markdown",
   "id": "2d7674ea",
   "metadata": {},
   "source": [
    "#### Today Topics\n",
    "- continued with numpy\n",
    "- pandas"
   ]
  },
  {
   "cell_type": "markdown",
   "id": "82739b54",
   "metadata": {},
   "source": [
    "### linspace\n",
    "   - linear space which equally patition the given interval \n",
    "        [0,1)\n",
    "   - by default it will give us 50 equal partitions\n",
    "                                                                      \n",
    "   - numpy.linspace(start,stop,n(optional))\n",
    "### random\n",
    "- random is the submodule in numpy which generates random integers/samples\n",
    "- np.random.randint()\n",
    "- np.random.randint(start,stop)\n",
    "- np.random.randint(start,stop,n)\n",
    "- np.random.random(row,col)\n",
    "    - within the interval [0,1)\n",
    "- np.random.rand()\n",
    "- np.random.randn()"
   ]
  },
  {
   "cell_type": "code",
   "execution_count": 2,
   "id": "2625af54",
   "metadata": {},
   "outputs": [],
   "source": [
    "import numpy as np"
   ]
  },
  {
   "cell_type": "code",
   "execution_count": 3,
   "id": "e97f1556",
   "metadata": {
    "collapsed": true
   },
   "outputs": [
    {
     "name": "stdout",
     "output_type": "stream",
     "text": [
      "Help on function linspace in module numpy:\n",
      "\n",
      "linspace(start, stop, num=50, endpoint=True, retstep=False, dtype=None, axis=0)\n",
      "    Return evenly spaced numbers over a specified interval.\n",
      "    \n",
      "    Returns `num` evenly spaced samples, calculated over the\n",
      "    interval [`start`, `stop`].\n",
      "    \n",
      "    The endpoint of the interval can optionally be excluded.\n",
      "    \n",
      "    .. versionchanged:: 1.16.0\n",
      "        Non-scalar `start` and `stop` are now supported.\n",
      "    \n",
      "    .. versionchanged:: 1.20.0\n",
      "        Values are rounded towards ``-inf`` instead of ``0`` when an\n",
      "        integer ``dtype`` is specified. The old behavior can\n",
      "        still be obtained with ``np.linspace(start, stop, num).astype(int)``\n",
      "    \n",
      "    Parameters\n",
      "    ----------\n",
      "    start : array_like\n",
      "        The starting value of the sequence.\n",
      "    stop : array_like\n",
      "        The end value of the sequence, unless `endpoint` is set to False.\n",
      "        In that case, the sequence consists of all but the last of ``num + 1``\n",
      "        evenly spaced samples, so that `stop` is excluded.  Note that the step\n",
      "        size changes when `endpoint` is False.\n",
      "    num : int, optional\n",
      "        Number of samples to generate. Default is 50. Must be non-negative.\n",
      "    endpoint : bool, optional\n",
      "        If True, `stop` is the last sample. Otherwise, it is not included.\n",
      "        Default is True.\n",
      "    retstep : bool, optional\n",
      "        If True, return (`samples`, `step`), where `step` is the spacing\n",
      "        between samples.\n",
      "    dtype : dtype, optional\n",
      "        The type of the output array.  If `dtype` is not given, the data type\n",
      "        is inferred from `start` and `stop`. The inferred dtype will never be\n",
      "        an integer; `float` is chosen even if the arguments would produce an\n",
      "        array of integers.\n",
      "    \n",
      "        .. versionadded:: 1.9.0\n",
      "    \n",
      "    axis : int, optional\n",
      "        The axis in the result to store the samples.  Relevant only if start\n",
      "        or stop are array-like.  By default (0), the samples will be along a\n",
      "        new axis inserted at the beginning. Use -1 to get an axis at the end.\n",
      "    \n",
      "        .. versionadded:: 1.16.0\n",
      "    \n",
      "    Returns\n",
      "    -------\n",
      "    samples : ndarray\n",
      "        There are `num` equally spaced samples in the closed interval\n",
      "        ``[start, stop]`` or the half-open interval ``[start, stop)``\n",
      "        (depending on whether `endpoint` is True or False).\n",
      "    step : float, optional\n",
      "        Only returned if `retstep` is True\n",
      "    \n",
      "        Size of spacing between samples.\n",
      "    \n",
      "    \n",
      "    See Also\n",
      "    --------\n",
      "    arange : Similar to `linspace`, but uses a step size (instead of the\n",
      "             number of samples).\n",
      "    geomspace : Similar to `linspace`, but with numbers spaced evenly on a log\n",
      "                scale (a geometric progression).\n",
      "    logspace : Similar to `geomspace`, but with the end points specified as\n",
      "               logarithms.\n",
      "    \n",
      "    Examples\n",
      "    --------\n",
      "    >>> np.linspace(2.0, 3.0, num=5)\n",
      "    array([2.  , 2.25, 2.5 , 2.75, 3.  ])\n",
      "    >>> np.linspace(2.0, 3.0, num=5, endpoint=False)\n",
      "    array([2. ,  2.2,  2.4,  2.6,  2.8])\n",
      "    >>> np.linspace(2.0, 3.0, num=5, retstep=True)\n",
      "    (array([2.  ,  2.25,  2.5 ,  2.75,  3.  ]), 0.25)\n",
      "    \n",
      "    Graphical illustration:\n",
      "    \n",
      "    >>> import matplotlib.pyplot as plt\n",
      "    >>> N = 8\n",
      "    >>> y = np.zeros(N)\n",
      "    >>> x1 = np.linspace(0, 10, N, endpoint=True)\n",
      "    >>> x2 = np.linspace(0, 10, N, endpoint=False)\n",
      "    >>> plt.plot(x1, y, 'o')\n",
      "    [<matplotlib.lines.Line2D object at 0x...>]\n",
      "    >>> plt.plot(x2, y + 0.5, 'o')\n",
      "    [<matplotlib.lines.Line2D object at 0x...>]\n",
      "    >>> plt.ylim([-0.5, 1])\n",
      "    (-0.5, 1)\n",
      "    >>> plt.show()\n",
      "\n"
     ]
    }
   ],
   "source": [
    "help(np.linspace)"
   ]
  },
  {
   "cell_type": "code",
   "execution_count": 4,
   "id": "2f6fefa0",
   "metadata": {
    "collapsed": true
   },
   "outputs": [
    {
     "name": "stdout",
     "output_type": "stream",
     "text": [
      "[200.         206.12244898 212.24489796 218.36734694 224.48979592\n",
      " 230.6122449  236.73469388 242.85714286 248.97959184 255.10204082\n",
      " 261.2244898  267.34693878 273.46938776 279.59183673 285.71428571\n",
      " 291.83673469 297.95918367 304.08163265 310.20408163 316.32653061\n",
      " 322.44897959 328.57142857 334.69387755 340.81632653 346.93877551\n",
      " 353.06122449 359.18367347 365.30612245 371.42857143 377.55102041\n",
      " 383.67346939 389.79591837 395.91836735 402.04081633 408.16326531\n",
      " 414.28571429 420.40816327 426.53061224 432.65306122 438.7755102\n",
      " 444.89795918 451.02040816 457.14285714 463.26530612 469.3877551\n",
      " 475.51020408 481.63265306 487.75510204 493.87755102 500.        ]\n"
     ]
    }
   ],
   "source": [
    "ln=np.linspace(200,500) # both limits are inclusive\n",
    "print(ln)"
   ]
  },
  {
   "cell_type": "code",
   "execution_count": 6,
   "id": "7a5c9a30",
   "metadata": {},
   "outputs": [
    {
     "name": "stdout",
     "output_type": "stream",
     "text": [
      "0 1 2 3 4 5 6 7 8 9\n"
     ]
    }
   ],
   "source": [
    "print(*range(10))"
   ]
  },
  {
   "cell_type": "code",
   "execution_count": 7,
   "id": "9bdd9ac8",
   "metadata": {},
   "outputs": [
    {
     "data": {
      "text/plain": [
       "array([0, 1, 2, 3, 4, 5, 6, 7, 8, 9])"
      ]
     },
     "execution_count": 7,
     "metadata": {},
     "output_type": "execute_result"
    }
   ],
   "source": [
    "np.arange(10)"
   ]
  },
  {
   "cell_type": "code",
   "execution_count": 8,
   "id": "c32875f3",
   "metadata": {
    "collapsed": true
   },
   "outputs": [
    {
     "name": "stdout",
     "output_type": "stream",
     "text": [
      "[ 300.          324.13793103  348.27586207  372.4137931   396.55172414\n",
      "  420.68965517  444.82758621  468.96551724  493.10344828  517.24137931\n",
      "  541.37931034  565.51724138  589.65517241  613.79310345  637.93103448\n",
      "  662.06896552  686.20689655  710.34482759  734.48275862  758.62068966\n",
      "  782.75862069  806.89655172  831.03448276  855.17241379  879.31034483\n",
      "  903.44827586  927.5862069   951.72413793  975.86206897 1000.        ]\n"
     ]
    }
   ],
   "source": [
    "print(np.linspace(300,1000,30))"
   ]
  },
  {
   "cell_type": "code",
   "execution_count": 9,
   "id": "1cd372e4",
   "metadata": {
    "collapsed": true
   },
   "outputs": [
    {
     "name": "stdout",
     "output_type": "stream",
     "text": [
      "[ 300.          307.07070707  314.14141414  321.21212121  328.28282828\n",
      "  335.35353535  342.42424242  349.49494949  356.56565657  363.63636364\n",
      "  370.70707071  377.77777778  384.84848485  391.91919192  398.98989899\n",
      "  406.06060606  413.13131313  420.2020202   427.27272727  434.34343434\n",
      "  441.41414141  448.48484848  455.55555556  462.62626263  469.6969697\n",
      "  476.76767677  483.83838384  490.90909091  497.97979798  505.05050505\n",
      "  512.12121212  519.19191919  526.26262626  533.33333333  540.4040404\n",
      "  547.47474747  554.54545455  561.61616162  568.68686869  575.75757576\n",
      "  582.82828283  589.8989899   596.96969697  604.04040404  611.11111111\n",
      "  618.18181818  625.25252525  632.32323232  639.39393939  646.46464646\n",
      "  653.53535354  660.60606061  667.67676768  674.74747475  681.81818182\n",
      "  688.88888889  695.95959596  703.03030303  710.1010101   717.17171717\n",
      "  724.24242424  731.31313131  738.38383838  745.45454545  752.52525253\n",
      "  759.5959596   766.66666667  773.73737374  780.80808081  787.87878788\n",
      "  794.94949495  802.02020202  809.09090909  816.16161616  823.23232323\n",
      "  830.3030303   837.37373737  844.44444444  851.51515152  858.58585859\n",
      "  865.65656566  872.72727273  879.7979798   886.86868687  893.93939394\n",
      "  901.01010101  908.08080808  915.15151515  922.22222222  929.29292929\n",
      "  936.36363636  943.43434343  950.50505051  957.57575758  964.64646465\n",
      "  971.71717172  978.78787879  985.85858586  992.92929293 1000.        ]\n"
     ]
    }
   ],
   "source": [
    "print(np.linspace(300,1000,100))\n",
    "#write a python logic to print only even integers"
   ]
  },
  {
   "cell_type": "code",
   "execution_count": 10,
   "id": "dcac5c59",
   "metadata": {},
   "outputs": [],
   "source": [
    "#### random"
   ]
  },
  {
   "cell_type": "code",
   "execution_count": 13,
   "id": "cfef5df9",
   "metadata": {},
   "outputs": [
    {
     "data": {
      "text/plain": [
       "67"
      ]
     },
     "execution_count": 13,
     "metadata": {},
     "output_type": "execute_result"
    }
   ],
   "source": [
    "np.random.randint(100) \n",
    "# it will generate a random integer b/w 0 and n"
   ]
  },
  {
   "cell_type": "code",
   "execution_count": 22,
   "id": "30b29c64",
   "metadata": {
    "collapsed": true
   },
   "outputs": [
    {
     "name": "stdout",
     "output_type": "stream",
     "text": [
      "984\n",
      "3000\n",
      "4000\n",
      "[[3573 3726 3843 3980 3531]\n",
      " [3590 3736 3097 3371 3163]\n",
      " [3968 3109 3000 3221 3776]\n",
      " [3292 3530 3734 3397 3029]\n",
      " [3753 3989 3575 3563 3833]]\n"
     ]
    }
   ],
   "source": [
    "print(np.random.randint(100,1000)) # single random integer\n",
    "#generating n random integers\n",
    "rn=np.random.randint(int(input()),int(input()),25).reshape(5,5)\n",
    "print(rn)\n",
    "\n",
    "\n",
    "# row matrix convert this into 2d array with equal size"
   ]
  },
  {
   "cell_type": "code",
   "execution_count": 21,
   "id": "f6bf5242",
   "metadata": {
    "collapsed": true
   },
   "outputs": [
    {
     "name": "stdout",
     "output_type": "stream",
     "text": [
      "[[ 3461  3281 28709 22783 11663]\n",
      " [38562 33661 21831 37226  5676]\n",
      " [ 5795 10047 20149 17655 10153]\n",
      " [18919  4430 22424 16402 27350]\n",
      " [27093 23455 21976 26871  1686]]\n"
     ]
    }
   ],
   "source": [
    "print(np.random.randint(1000,40000,25).reshape(5,-3))"
   ]
  },
  {
   "cell_type": "code",
   "execution_count": 26,
   "id": "5ce36b62",
   "metadata": {
    "collapsed": true
   },
   "outputs": [
    {
     "data": {
      "text/plain": [
       "0.5260333542734554"
      ]
     },
     "execution_count": 26,
     "metadata": {},
     "output_type": "execute_result"
    }
   ],
   "source": [
    "np.random.random() # b/w [0,1)"
   ]
  },
  {
   "cell_type": "code",
   "execution_count": 29,
   "id": "c2f4978e",
   "metadata": {
    "collapsed": true
   },
   "outputs": [
    {
     "data": {
      "text/plain": [
       "array([[0.77581556, 0.5399049 , 0.96823509, 0.2234442 , 0.99357832],\n",
       "       [0.12939018, 0.80272305, 0.14947903, 0.91888218, 0.36320155]])"
      ]
     },
     "execution_count": 29,
     "metadata": {},
     "output_type": "execute_result"
    }
   ],
   "source": [
    "np.random.random((2,5))"
   ]
  },
  {
   "cell_type": "code",
   "execution_count": 31,
   "id": "f8ad2aa2",
   "metadata": {
    "collapsed": true
   },
   "outputs": [
    {
     "data": {
      "text/plain": [
       "array([[0.38197328, 0.96294616, 0.01475959],\n",
       "       [0.20610634, 0.90133153, 0.88247368],\n",
       "       [0.13419582, 0.29329418, 0.37197716]])"
      ]
     },
     "execution_count": 31,
     "metadata": {},
     "output_type": "execute_result"
    }
   ],
   "source": [
    "np.random.random(9).reshape(3,3)"
   ]
  },
  {
   "cell_type": "code",
   "execution_count": 34,
   "id": "5d69327d",
   "metadata": {
    "collapsed": true
   },
   "outputs": [
    {
     "data": {
      "text/plain": [
       "0.03470280772635492"
      ]
     },
     "execution_count": 34,
     "metadata": {},
     "output_type": "execute_result"
    }
   ],
   "source": [
    "np.random.rand()"
   ]
  },
  {
   "cell_type": "code",
   "execution_count": 36,
   "id": "c00dda03",
   "metadata": {
    "collapsed": true
   },
   "outputs": [
    {
     "data": {
      "text/plain": [
       "array([0.91371499, 0.18324795, 0.79404467, 0.2891643 , 0.30629999,\n",
       "       0.90668788])"
      ]
     },
     "execution_count": 36,
     "metadata": {},
     "output_type": "execute_result"
    }
   ],
   "source": [
    "np.random.rand(6)"
   ]
  },
  {
   "cell_type": "code",
   "execution_count": 39,
   "id": "40200491",
   "metadata": {
    "collapsed": true
   },
   "outputs": [
    {
     "data": {
      "text/plain": [
       "array([[0.17553207, 0.83906057, 0.84080776, 0.87704939, 0.41449664],\n",
       "       [0.80374508, 0.50133983, 0.8885459 , 0.58402407, 0.51904353],\n",
       "       [0.37281337, 0.75958972, 0.64500887, 0.38288167, 0.13246433],\n",
       "       [0.18472405, 0.78034459, 0.71869391, 0.78752306, 0.19879146],\n",
       "       [0.36844339, 0.16950812, 0.24647339, 0.97176844, 0.50098488]])"
      ]
     },
     "execution_count": 39,
     "metadata": {},
     "output_type": "execute_result"
    }
   ],
   "source": [
    "np.random.rand(5,5)"
   ]
  },
  {
   "cell_type": "code",
   "execution_count": 43,
   "id": "e7151415",
   "metadata": {
    "collapsed": true
   },
   "outputs": [
    {
     "data": {
      "text/plain": [
       "-1.0694979213299454"
      ]
     },
     "execution_count": 43,
     "metadata": {},
     "output_type": "execute_result"
    }
   ],
   "source": [
    "np.random.randn() # [-ve,+ve)\n"
   ]
  },
  {
   "cell_type": "code",
   "execution_count": 44,
   "id": "c4a916ab",
   "metadata": {},
   "outputs": [
    {
     "data": {
      "text/plain": [
       "array([ 1.09861797, -2.01433559, -0.55338338])"
      ]
     },
     "execution_count": 44,
     "metadata": {},
     "output_type": "execute_result"
    }
   ],
   "source": [
    "np.random.randn(3)"
   ]
  },
  {
   "cell_type": "code",
   "execution_count": 45,
   "id": "364e695e",
   "metadata": {
    "collapsed": true
   },
   "outputs": [
    {
     "data": {
      "text/plain": [
       "array([[ 0.56459088,  0.80643587,  0.70038115,  0.32645736, -0.4643658 ],\n",
       "       [-0.21621161,  0.02465654, -0.39869847, -0.31727807,  0.29512721],\n",
       "       [ 1.24857468,  1.1329785 , -1.127548  ,  0.7377569 ,  0.67894953]])"
      ]
     },
     "execution_count": 45,
     "metadata": {},
     "output_type": "execute_result"
    }
   ],
   "source": [
    "np.random.randn(3,5)"
   ]
  },
  {
   "cell_type": "markdown",
   "id": "0c471520",
   "metadata": {},
   "source": [
    "#### array indexing and slicing\n",
    "- index is of 3 types\n",
    "    1. +ve indexing\n",
    "        - 0 to len(iterable)-1\n",
    "    2. -ve indexing\n",
    "        - -1 to -infinite\n",
    "    3. fancy indexing\n",
    "        - condition as index"
   ]
  },
  {
   "cell_type": "code",
   "execution_count": 46,
   "id": "6a222481",
   "metadata": {},
   "outputs": [
    {
     "data": {
      "text/plain": [
       "array([[3573, 3726, 3843, 3980, 3531],\n",
       "       [3590, 3736, 3097, 3371, 3163],\n",
       "       [3968, 3109, 3000, 3221, 3776],\n",
       "       [3292, 3530, 3734, 3397, 3029],\n",
       "       [3753, 3989, 3575, 3563, 3833]])"
      ]
     },
     "execution_count": 46,
     "metadata": {},
     "output_type": "execute_result"
    }
   ],
   "source": [
    "rn #"
   ]
  },
  {
   "cell_type": "code",
   "execution_count": 47,
   "id": "586b23f9",
   "metadata": {},
   "outputs": [
    {
     "data": {
      "text/plain": [
       "array([3968, 3109, 3000, 3221, 3776])"
      ]
     },
     "execution_count": 47,
     "metadata": {},
     "output_type": "execute_result"
    }
   ],
   "source": [
    "rn[2]# 3rd row"
   ]
  },
  {
   "cell_type": "code",
   "execution_count": 48,
   "id": "2b05b09d",
   "metadata": {},
   "outputs": [
    {
     "data": {
      "text/plain": [
       "array([3292, 3530, 3734, 3397, 3029])"
      ]
     },
     "execution_count": 48,
     "metadata": {},
     "output_type": "execute_result"
    }
   ],
   "source": [
    "rn[-2] # lat but one row/2nd row from last"
   ]
  },
  {
   "cell_type": "code",
   "execution_count": 50,
   "id": "fe6a8b29",
   "metadata": {},
   "outputs": [
    {
     "data": {
      "text/plain": [
       "3000"
      ]
     },
     "execution_count": 50,
     "metadata": {},
     "output_type": "execute_result"
    }
   ],
   "source": [
    "#specific value\n",
    "rn[2][2]"
   ]
  },
  {
   "cell_type": "code",
   "execution_count": 51,
   "id": "2fd672b7",
   "metadata": {
    "collapsed": true
   },
   "outputs": [
    {
     "data": {
      "text/plain": [
       "array([[3843, 3980, 3531],\n",
       "       [3097, 3371, 3163],\n",
       "       [3000, 3221, 3776],\n",
       "       [3734, 3397, 3029],\n",
       "       [3575, 3563, 3833]])"
      ]
     },
     "execution_count": 51,
     "metadata": {},
     "output_type": "execute_result"
    }
   ],
   "source": [
    "rn[:,2:] # columns from 3rd index in entire rows"
   ]
  },
  {
   "cell_type": "code",
   "execution_count": 52,
   "id": "56641705",
   "metadata": {
    "collapsed": true
   },
   "outputs": [
    {
     "data": {
      "text/plain": [
       "array([[3573, 3726, 3843, 3980, 3531],\n",
       "       [3590, 3736, 3097, 3371, 3163],\n",
       "       [3968, 3109, 3000, 3221, 3776],\n",
       "       [3292, 3530, 3734, 3397, 3029],\n",
       "       [3753, 3989, 3575, 3563, 3833]])"
      ]
     },
     "execution_count": 52,
     "metadata": {},
     "output_type": "execute_result"
    }
   ],
   "source": [
    "rn[:]"
   ]
  },
  {
   "cell_type": "code",
   "execution_count": 53,
   "id": "a9ca1d13",
   "metadata": {
    "collapsed": true
   },
   "outputs": [
    {
     "data": {
      "text/plain": [
       "array([[3573, 3726, 3843, 3980, 3531],\n",
       "       [3590, 3736, 3097, 3371, 3163],\n",
       "       [3968, 3109, 3000, 3221, 3776],\n",
       "       [3292, 3530, 3734, 3397, 3029],\n",
       "       [3753, 3989, 3575, 3563, 3833]])"
      ]
     },
     "execution_count": 53,
     "metadata": {},
     "output_type": "execute_result"
    }
   ],
   "source": [
    "rn[::]"
   ]
  },
  {
   "cell_type": "code",
   "execution_count": 54,
   "id": "b8615d42",
   "metadata": {
    "collapsed": true
   },
   "outputs": [
    {
     "data": {
      "text/plain": [
       "array([[3753, 3989, 3575, 3563, 3833],\n",
       "       [3292, 3530, 3734, 3397, 3029],\n",
       "       [3968, 3109, 3000, 3221, 3776],\n",
       "       [3590, 3736, 3097, 3371, 3163],\n",
       "       [3573, 3726, 3843, 3980, 3531]])"
      ]
     },
     "execution_count": 54,
     "metadata": {},
     "output_type": "execute_result"
    }
   ],
   "source": [
    "rn[::-1]# from last to first rows"
   ]
  },
  {
   "cell_type": "code",
   "execution_count": 55,
   "id": "321b0761",
   "metadata": {},
   "outputs": [
    {
     "data": {
      "text/plain": [
       "'tiii'"
      ]
     },
     "execution_count": 55,
     "metadata": {},
     "output_type": "execute_result"
    }
   ],
   "source": [
    "name=\"iiit\"\n",
    "name[::-1]"
   ]
  },
  {
   "cell_type": "code",
   "execution_count": 56,
   "id": "a6ee82ab",
   "metadata": {
    "collapsed": true
   },
   "outputs": [
    {
     "data": {
      "text/plain": [
       "array([[3573, 3590, 3968, 3292, 3753],\n",
       "       [3726, 3736, 3109, 3530, 3989],\n",
       "       [3843, 3097, 3000, 3734, 3575],\n",
       "       [3980, 3371, 3221, 3397, 3563],\n",
       "       [3531, 3163, 3776, 3029, 3833]])"
      ]
     },
     "execution_count": 56,
     "metadata": {},
     "output_type": "execute_result"
    }
   ],
   "source": [
    "rn.transpose()"
   ]
  },
  {
   "cell_type": "code",
   "execution_count": 57,
   "id": "3622d418",
   "metadata": {
    "collapsed": true
   },
   "outputs": [
    {
     "name": "stdout",
     "output_type": "stream",
     "text": [
      "Help on built-in function transpose:\n",
      "\n",
      "transpose(...) method of numpy.ndarray instance\n",
      "    a.transpose(*axes)\n",
      "    \n",
      "    Returns a view of the array with axes transposed.\n",
      "    \n",
      "    For a 1-D array this has no effect, as a transposed vector is simply the\n",
      "    same vector. To convert a 1-D array into a 2D column vector, an additional\n",
      "    dimension must be added. `np.atleast2d(a).T` achieves this, as does\n",
      "    `a[:, np.newaxis]`.\n",
      "    For a 2-D array, this is a standard matrix transpose.\n",
      "    For an n-D array, if axes are given, their order indicates how the\n",
      "    axes are permuted (see Examples). If axes are not provided and\n",
      "    ``a.shape = (i[0], i[1], ... i[n-2], i[n-1])``, then\n",
      "    ``a.transpose().shape = (i[n-1], i[n-2], ... i[1], i[0])``.\n",
      "    \n",
      "    Parameters\n",
      "    ----------\n",
      "    axes : None, tuple of ints, or `n` ints\n",
      "    \n",
      "     * None or no argument: reverses the order of the axes.\n",
      "    \n",
      "     * tuple of ints: `i` in the `j`-th place in the tuple means `a`'s\n",
      "       `i`-th axis becomes `a.transpose()`'s `j`-th axis.\n",
      "    \n",
      "     * `n` ints: same as an n-tuple of the same ints (this form is\n",
      "       intended simply as a \"convenience\" alternative to the tuple form)\n",
      "    \n",
      "    Returns\n",
      "    -------\n",
      "    out : ndarray\n",
      "        View of `a`, with axes suitably permuted.\n",
      "    \n",
      "    See Also\n",
      "    --------\n",
      "    transpose : Equivalent function\n",
      "    ndarray.T : Array property returning the array transposed.\n",
      "    ndarray.reshape : Give a new shape to an array without changing its data.\n",
      "    \n",
      "    Examples\n",
      "    --------\n",
      "    >>> a = np.array([[1, 2], [3, 4]])\n",
      "    >>> a\n",
      "    array([[1, 2],\n",
      "           [3, 4]])\n",
      "    >>> a.transpose()\n",
      "    array([[1, 3],\n",
      "           [2, 4]])\n",
      "    >>> a.transpose((1, 0))\n",
      "    array([[1, 3],\n",
      "           [2, 4]])\n",
      "    >>> a.transpose(1, 0)\n",
      "    array([[1, 3],\n",
      "           [2, 4]])\n",
      "\n"
     ]
    }
   ],
   "source": [
    "help(rn.transpose)"
   ]
  },
  {
   "cell_type": "code",
   "execution_count": 58,
   "id": "7a6a2890",
   "metadata": {
    "collapsed": true
   },
   "outputs": [
    {
     "data": {
      "text/plain": [
       "array([[3573, 3726, 3843, 3980, 3531],\n",
       "       [3590, 3736, 3097, 3371, 3163],\n",
       "       [3968, 3109, 3000, 3221, 3776],\n",
       "       [3292, 3530, 3734, 3397, 3029],\n",
       "       [3753, 3989, 3575, 3563, 3833]])"
      ]
     },
     "execution_count": 58,
     "metadata": {},
     "output_type": "execute_result"
    }
   ],
   "source": [
    "rn"
   ]
  },
  {
   "cell_type": "code",
   "execution_count": 59,
   "id": "0276fa14",
   "metadata": {},
   "outputs": [
    {
     "data": {
      "text/plain": [
       "array([[3573, 3726, 3843, 3980, 3531],\n",
       "       [3968, 3109, 3000, 3221, 3776],\n",
       "       [3753, 3989, 3575, 3563, 3833]])"
      ]
     },
     "execution_count": 59,
     "metadata": {},
     "output_type": "execute_result"
    }
   ],
   "source": [
    "rn[::2] # alternate rows"
   ]
  },
  {
   "cell_type": "code",
   "execution_count": 60,
   "id": "0e9ae02d",
   "metadata": {},
   "outputs": [
    {
     "data": {
      "text/plain": [
       "array([[3573, 3843, 3531],\n",
       "       [3968, 3000, 3776],\n",
       "       [3753, 3575, 3833]])"
      ]
     },
     "execution_count": 60,
     "metadata": {},
     "output_type": "execute_result"
    }
   ],
   "source": [
    "# alternate cols in alternate rows\n",
    "rn[::2,::2]"
   ]
  },
  {
   "cell_type": "markdown",
   "id": "33735f49",
   "metadata": {},
   "source": [
    "#### Scientific computation\n"
   ]
  },
  {
   "cell_type": "code",
   "execution_count": 61,
   "id": "e8a1afb7",
   "metadata": {},
   "outputs": [],
   "source": [
    "# create 2 equal sizes 2d arrays"
   ]
  },
  {
   "cell_type": "code",
   "execution_count": 62,
   "id": "23ef049c",
   "metadata": {
    "collapsed": true
   },
   "outputs": [
    {
     "name": "stdout",
     "output_type": "stream",
     "text": [
      "[[[ 0  1  2  3  4]\n",
      "  [ 5  6  7  8  9]\n",
      "  [10 11 12 13 14]]\n",
      "\n",
      " [[15 16 17 18 19]\n",
      "  [20 21 22 23 24]\n",
      "  [25 26 27 28 29]]\n",
      "\n",
      " [[30 31 32 33 34]\n",
      "  [35 36 37 38 39]\n",
      "  [40 41 42 43 44]]]\n"
     ]
    }
   ],
   "source": [
    "man=np.arange(45).reshape(3,3,5) \n",
    "print(man)"
   ]
  },
  {
   "cell_type": "code",
   "execution_count": 65,
   "id": "18ee6830",
   "metadata": {
    "scrolled": true
   },
   "outputs": [
    {
     "data": {
      "text/plain": [
       "array([[ 0,  1,  2,  3,  4],\n",
       "       [ 5,  6,  7,  8,  9],\n",
       "       [10, 11, 12, 13, 14]])"
      ]
     },
     "execution_count": 65,
     "metadata": {},
     "output_type": "execute_result"
    }
   ],
   "source": [
    "man[0]"
   ]
  },
  {
   "cell_type": "code",
   "execution_count": 66,
   "id": "984923a2",
   "metadata": {},
   "outputs": [
    {
     "data": {
      "text/plain": [
       "array([[17, 18],\n",
       "       [22, 23],\n",
       "       [27, 28]])"
      ]
     },
     "execution_count": 66,
     "metadata": {},
     "output_type": "execute_result"
    }
   ],
   "source": [
    "man[1][:,2:4]"
   ]
  },
  {
   "cell_type": "code",
   "execution_count": 67,
   "id": "02de5616",
   "metadata": {},
   "outputs": [],
   "source": [
    "#fancy indexing"
   ]
  },
  {
   "cell_type": "code",
   "execution_count": 69,
   "id": "22186e79",
   "metadata": {},
   "outputs": [
    {
     "data": {
      "text/plain": [
       "array([[3573, 3726, 3843, 3980, 3531],\n",
       "       [3590, 3736, 3097, 3371, 3163],\n",
       "       [3968, 3109, 3000, 3221, 3776],\n",
       "       [3292, 3530, 3734, 3397, 3029],\n",
       "       [3753, 3989, 3575, 3563, 3833]])"
      ]
     },
     "execution_count": 69,
     "metadata": {},
     "output_type": "execute_result"
    }
   ],
   "source": [
    "rn"
   ]
  },
  {
   "cell_type": "code",
   "execution_count": 70,
   "id": "963081e1",
   "metadata": {},
   "outputs": [
    {
     "data": {
      "text/plain": [
       "array([[3573, 3726, 3843, 3980, 3531],\n",
       "       [3590, 3736, 3097, 3371, 3163],\n",
       "       [3968, 3109, 3000, 3221, 3776]])"
      ]
     },
     "execution_count": 70,
     "metadata": {},
     "output_type": "execute_result"
    }
   ],
   "source": [
    "# value>3000 to 3700\n",
    "#val<3500\n",
    "rn[:3]"
   ]
  },
  {
   "cell_type": "code",
   "execution_count": 73,
   "id": "c0ef5b28",
   "metadata": {
    "collapsed": true
   },
   "outputs": [
    {
     "data": {
      "text/plain": [
       "array([[ True,  True,  True,  True,  True],\n",
       "       [ True,  True, False, False, False],\n",
       "       [ True, False, False, False,  True],\n",
       "       [False,  True,  True, False, False],\n",
       "       [ True,  True,  True,  True,  True]])"
      ]
     },
     "execution_count": 73,
     "metadata": {},
     "output_type": "execute_result"
    }
   ],
   "source": [
    "rn>3500"
   ]
  },
  {
   "cell_type": "code",
   "execution_count": 78,
   "id": "8f356ac5",
   "metadata": {
    "collapsed": true
   },
   "outputs": [
    {
     "ename": "ValueError",
     "evalue": "The truth value of an array with more than one element is ambiguous. Use a.any() or a.all()",
     "output_type": "error",
     "traceback": [
      "\u001b[1;31m---------------------------------------------------------------------------\u001b[0m",
      "\u001b[1;31mValueError\u001b[0m                                Traceback (most recent call last)",
      "\u001b[1;32m~\\AppData\\Local\\Temp\\ipykernel_11096\\3345564976.py\u001b[0m in \u001b[0;36m<module>\u001b[1;34m\u001b[0m\n\u001b[1;32m----> 1\u001b[1;33m \u001b[1;33m(\u001b[0m\u001b[0mrn\u001b[0m\u001b[1;33m>\u001b[0m\u001b[1;36m3000\u001b[0m\u001b[1;33m)\u001b[0m \u001b[1;32mor\u001b[0m \u001b[1;33m(\u001b[0m\u001b[0mrn\u001b[0m\u001b[1;33m<\u001b[0m\u001b[1;36m3700\u001b[0m\u001b[1;33m)\u001b[0m\u001b[1;33m\u001b[0m\u001b[1;33m\u001b[0m\u001b[0m\n\u001b[0m",
      "\u001b[1;31mValueError\u001b[0m: The truth value of an array with more than one element is ambiguous. Use a.any() or a.all()"
     ]
    }
   ],
   "source": [
    "(rn>3000) or (rn<3700)"
   ]
  },
  {
   "cell_type": "code",
   "execution_count": 80,
   "id": "923004fa",
   "metadata": {},
   "outputs": [
    {
     "data": {
      "text/plain": [
       "array([3573, 3726, 3843, 3980, 3531, 3590, 3736, 3968, 3776, 3530, 3734,\n",
       "       3753, 3989, 3575, 3563, 3833])"
      ]
     },
     "execution_count": 80,
     "metadata": {},
     "output_type": "execute_result"
    }
   ],
   "source": [
    "rn[rn>3500] # pass the condition as index"
   ]
  },
  {
   "cell_type": "code",
   "execution_count": 81,
   "id": "a3a3f376",
   "metadata": {},
   "outputs": [],
   "source": [
    "# scientific computation"
   ]
  },
  {
   "cell_type": "code",
   "execution_count": 82,
   "id": "0d594bf4",
   "metadata": {
    "collapsed": true
   },
   "outputs": [
    {
     "name": "stdout",
     "output_type": "stream",
     "text": [
      "[[ 0  1  2  3  4]\n",
      " [ 5  6  7  8  9]\n",
      " [10 11 12 13 14]\n",
      " [15 16 17 18 19]\n",
      " [20 21 22 23 24]]\n",
      "[[214 394 237 275 411]\n",
      " [233 385 394 305 296]\n",
      " [208 182 215 144 263]\n",
      " [403 173 204 446 277]\n",
      " [487 460 491 234 480]]\n"
     ]
    }
   ],
   "source": [
    "man=np.arange(25).reshape(5,5)\n",
    "new=np.random.randint(100,500,25).reshape(5,5)\n",
    "print(man)\n",
    "print(new)"
   ]
  },
  {
   "cell_type": "code",
   "execution_count": 83,
   "id": "a060d6cd",
   "metadata": {
    "collapsed": true
   },
   "outputs": [
    {
     "name": "stdout",
     "output_type": "stream",
     "text": [
      "[[214 395 239 278 415]\n",
      " [238 391 401 313 305]\n",
      " [218 193 227 157 277]\n",
      " [418 189 221 464 296]\n",
      " [507 481 513 257 504]]\n",
      "[[214 393 235 272 407]\n",
      " [228 379 387 297 287]\n",
      " [198 171 203 131 249]\n",
      " [388 157 187 428 258]\n",
      " [467 439 469 211 456]]\n",
      "[[    0   394   474   825  1644]\n",
      " [ 1165  2310  2758  2440  2664]\n",
      " [ 2080  2002  2580  1872  3682]\n",
      " [ 6045  2768  3468  8028  5263]\n",
      " [ 9740  9660 10802  5382 11520]]\n",
      "[[         inf 394.         118.5         91.66666667 102.75      ]\n",
      " [ 46.6         64.16666667  56.28571429  38.125       32.88888889]\n",
      " [ 20.8         16.54545455  17.91666667  11.07692308  18.78571429]\n",
      " [ 26.86666667  10.8125      12.          24.77777778  14.57894737]\n",
      " [ 24.35        21.9047619   22.31818182  10.17391304  20.        ]]\n",
      "[[  0 394 118  91 102]\n",
      " [ 46  64  56  38  32]\n",
      " [ 20  16  17  11  18]\n",
      " [ 26  10  12  24  14]\n",
      " [ 24  21  22  10  20]]\n",
      "[[          1         394       56169    20796875 -1530466831]\n",
      " [ -474910967   866240769  2077767296   924059009   671088640]\n",
      " [          0  1816270848 -1562068383           0 -1097437103]\n",
      " [ 1604133211  1002321473           0  1359216640 -1685035795]\n",
      " [  417107297           0 -1508108631 -1098907648           0]]\n",
      "[[ 0  0  1  2  3]\n",
      " [ 3  1  2  1  8]\n",
      " [ 8  6 11  1 11]\n",
      " [13 13  0 14 11]\n",
      " [ 7 19  7  4  0]]\n"
     ]
    },
    {
     "name": "stderr",
     "output_type": "stream",
     "text": [
      "C:\\Users\\ruthu\\AppData\\Local\\Temp\\ipykernel_11096\\1103400365.py:6: RuntimeWarning: divide by zero encountered in true_divide\n",
      "  print(new/man)\n",
      "C:\\Users\\ruthu\\AppData\\Local\\Temp\\ipykernel_11096\\1103400365.py:7: RuntimeWarning: divide by zero encountered in floor_divide\n",
      "  print(new//man)\n",
      "C:\\Users\\ruthu\\AppData\\Local\\Temp\\ipykernel_11096\\1103400365.py:9: RuntimeWarning: divide by zero encountered in remainder\n",
      "  print(new%man)\n"
     ]
    }
   ],
   "source": [
    "# perform all the arithmetic op'ns\n",
    "# +,-,/,*,**,%\n",
    "print(new+man)\n",
    "print(new-man)\n",
    "print(new*man)\n",
    "print(new/man)\n",
    "print(new//man)\n",
    "print(new**man)\n",
    "print(new%man)"
   ]
  },
  {
   "cell_type": "code",
   "execution_count": 85,
   "id": "ae403328",
   "metadata": {
    "collapsed": true
   },
   "outputs": [
    {
     "name": "stdout",
     "output_type": "stream",
     "text": [
      "[[16685 18216 19747 21278 22809]\n",
      " [16360 17973 19586 21199 22812]\n",
      " [10480 11492 12504 13516 14528]\n",
      " [15135 16638 18141 19644 21147]\n",
      " [20320 22472 24624 26776 28928]]\n"
     ]
    }
   ],
   "source": [
    "print(np.dot(new,man))"
   ]
  },
  {
   "cell_type": "code",
   "execution_count": 86,
   "id": "bc3b54a7",
   "metadata": {},
   "outputs": [
    {
     "name": "stdout",
     "output_type": "stream",
     "text": [
      "7811\n"
     ]
    }
   ],
   "source": [
    "print(np.sum(new))"
   ]
  },
  {
   "cell_type": "code",
   "execution_count": 88,
   "id": "9ff3e99b",
   "metadata": {},
   "outputs": [
    {
     "data": {
      "text/plain": [
       "144"
      ]
     },
     "execution_count": 88,
     "metadata": {},
     "output_type": "execute_result"
    }
   ],
   "source": [
    "np.min(new)"
   ]
  },
  {
   "cell_type": "code",
   "execution_count": 90,
   "id": "fb908fa6",
   "metadata": {},
   "outputs": [
    {
     "data": {
      "text/plain": [
       "144"
      ]
     },
     "execution_count": 90,
     "metadata": {},
     "output_type": "execute_result"
    }
   ],
   "source": [
    "new.min()"
   ]
  },
  {
   "cell_type": "code",
   "execution_count": 91,
   "id": "65159b23",
   "metadata": {},
   "outputs": [
    {
     "data": {
      "text/plain": [
       "108.95726868823392"
      ]
     },
     "execution_count": 91,
     "metadata": {},
     "output_type": "execute_result"
    }
   ],
   "source": [
    "new.std() # standard deviation of values"
   ]
  },
  {
   "cell_type": "code",
   "execution_count": 92,
   "id": "86aaced0",
   "metadata": {},
   "outputs": [
    {
     "data": {
      "text/plain": [
       "11871.6864"
      ]
     },
     "execution_count": 92,
     "metadata": {},
     "output_type": "execute_result"
    }
   ],
   "source": [
    "new.var()"
   ]
  },
  {
   "cell_type": "code",
   "execution_count": 93,
   "id": "0de4b885",
   "metadata": {},
   "outputs": [],
   "source": [
    "import math"
   ]
  },
  {
   "cell_type": "code",
   "execution_count": 94,
   "id": "44da6f59",
   "metadata": {},
   "outputs": [
    {
     "data": {
      "text/plain": [
       "108.95411878400927"
      ]
     },
     "execution_count": 94,
     "metadata": {},
     "output_type": "execute_result"
    }
   ],
   "source": [
    "math.sqrt(11871)"
   ]
  },
  {
   "cell_type": "code",
   "execution_count": 95,
   "id": "f5cb2803",
   "metadata": {},
   "outputs": [
    {
     "data": {
      "text/plain": [
       "312.44"
      ]
     },
     "execution_count": 95,
     "metadata": {},
     "output_type": "execute_result"
    }
   ],
   "source": [
    "new.mean()"
   ]
  },
  {
   "cell_type": "code",
   "execution_count": 96,
   "id": "2edb0026",
   "metadata": {},
   "outputs": [],
   "source": [
    "#logarithms\n",
    "#exponentials"
   ]
  },
  {
   "cell_type": "code",
   "execution_count": 97,
   "id": "c48a33fa",
   "metadata": {},
   "outputs": [
    {
     "data": {
      "text/plain": [
       "0.0"
      ]
     },
     "execution_count": 97,
     "metadata": {},
     "output_type": "execute_result"
    }
   ],
   "source": [
    "np.log(1)"
   ]
  },
  {
   "cell_type": "code",
   "execution_count": 98,
   "id": "5dd7f734",
   "metadata": {},
   "outputs": [
    {
     "data": {
      "text/plain": [
       "2.302585092994046"
      ]
     },
     "execution_count": 98,
     "metadata": {},
     "output_type": "execute_result"
    }
   ],
   "source": [
    "np.log(10)"
   ]
  },
  {
   "cell_type": "code",
   "execution_count": 99,
   "id": "55841fd3",
   "metadata": {},
   "outputs": [
    {
     "data": {
      "text/plain": [
       "1.0"
      ]
     },
     "execution_count": 99,
     "metadata": {},
     "output_type": "execute_result"
    }
   ],
   "source": [
    "np.log2(2)"
   ]
  },
  {
   "cell_type": "code",
   "execution_count": 100,
   "id": "aeb18e59",
   "metadata": {
    "collapsed": true
   },
   "outputs": [
    {
     "data": {
      "text/plain": [
       "array([[5.36597602, 5.97635091, 5.46806014, 5.6167711 , 6.01859321],\n",
       "       [5.45103845, 5.95324333, 5.97635091, 5.72031178, 5.69035945],\n",
       "       [5.33753808, 5.20400669, 5.37063803, 4.9698133 , 5.57215403],\n",
       "       [5.99893656, 5.15329159, 5.31811999, 6.10031895, 5.62401751],\n",
       "       [6.18826412, 6.13122649, 6.19644413, 5.45532112, 6.1737861 ]])"
      ]
     },
     "execution_count": 100,
     "metadata": {},
     "output_type": "execute_result"
    }
   ],
   "source": [
    "np.log(new)"
   ]
  },
  {
   "cell_type": "code",
   "execution_count": 102,
   "id": "0c38420e",
   "metadata": {
    "collapsed": true
   },
   "outputs": [
    {
     "data": {
      "text/plain": [
       "2.718281828459045"
      ]
     },
     "execution_count": 102,
     "metadata": {},
     "output_type": "execute_result"
    }
   ],
   "source": [
    "np.exp(1)"
   ]
  },
  {
   "cell_type": "code",
   "execution_count": 103,
   "id": "dfd27afe",
   "metadata": {
    "collapsed": true
   },
   "outputs": [
    {
     "data": {
      "text/plain": [
       "7.38905609893065"
      ]
     },
     "execution_count": 103,
     "metadata": {},
     "output_type": "execute_result"
    }
   ],
   "source": [
    "np.exp(2)"
   ]
  },
  {
   "cell_type": "code",
   "execution_count": 104,
   "id": "1d0256a8",
   "metadata": {
    "collapsed": true
   },
   "outputs": [
    {
     "data": {
      "text/plain": [
       "array([[8.68998701e+092, 1.29427294e+171, 8.46822154e+102,\n",
       "        2.69763087e+119, 3.12631016e+178],\n",
       "       [1.55100888e+101, 1.59725969e+167, 1.29427294e+171,\n",
       "        2.88281638e+132, 3.55767804e+128],\n",
       "       [2.15403242e+090, 1.10051434e+079, 2.36218338e+093,\n",
       "        3.45466066e+062, 1.65748169e+114],\n",
       "       [1.04876022e+175, 1.35814259e+075, 3.94524800e+088,\n",
       "        4.95836997e+193, 1.99329459e+120],\n",
       "       [3.17258077e+211, 5.96295697e+199, 1.73217041e+213,\n",
       "        4.21607925e+101, 2.89301918e+208]])"
      ]
     },
     "execution_count": 104,
     "metadata": {},
     "output_type": "execute_result"
    }
   ],
   "source": [
    "np.exp(new)"
   ]
  },
  {
   "cell_type": "code",
   "execution_count": 105,
   "id": "d6180cb1",
   "metadata": {},
   "outputs": [],
   "source": [
    "#vectorized function in numpy"
   ]
  },
  {
   "cell_type": "code",
   "execution_count": 106,
   "id": "cdd4a291",
   "metadata": {},
   "outputs": [
    {
     "data": {
      "text/plain": [
       "20"
      ]
     },
     "execution_count": 106,
     "metadata": {},
     "output_type": "execute_result"
    }
   ],
   "source": [
    "def greater(a,b):\n",
    "    if a>b:\n",
    "        return a\n",
    "    else:return b\n",
    "    \n",
    "greater(20,15)"
   ]
  },
  {
   "cell_type": "code",
   "execution_count": 108,
   "id": "3bcefc5d",
   "metadata": {},
   "outputs": [
    {
     "data": {
      "text/plain": [
       "100"
      ]
     },
     "execution_count": 108,
     "metadata": {},
     "output_type": "execute_result"
    }
   ],
   "source": [
    "greater(64,100)"
   ]
  },
  {
   "cell_type": "code",
   "execution_count": 109,
   "id": "e3011bfd",
   "metadata": {
    "collapsed": true
   },
   "outputs": [
    {
     "data": {
      "text/plain": [
       "[10, 2, 45]"
      ]
     },
     "execution_count": 109,
     "metadata": {},
     "output_type": "execute_result"
    }
   ],
   "source": [
    "greater([3,4,10],[10,2,45])\n",
    "# what should be the output\n",
    "#[10,4,45]"
   ]
  },
  {
   "cell_type": "code",
   "execution_count": 110,
   "id": "6c089160",
   "metadata": {
    "collapsed": true
   },
   "outputs": [
    {
     "data": {
      "text/plain": [
       "[13, 4, 10]"
      ]
     },
     "execution_count": 110,
     "metadata": {},
     "output_type": "execute_result"
    }
   ],
   "source": [
    "greater([13,4,10],[10,2,45])"
   ]
  },
  {
   "cell_type": "code",
   "execution_count": 112,
   "id": "afd87abe",
   "metadata": {},
   "outputs": [
    {
     "data": {
      "text/plain": [
       "array([10,  4, 45])"
      ]
     },
     "execution_count": 112,
     "metadata": {},
     "output_type": "execute_result"
    }
   ],
   "source": [
    "g=np.vectorize(greater)\n",
    "g([3,4,10],[10,2,45])"
   ]
  },
  {
   "cell_type": "markdown",
   "id": "ed156445",
   "metadata": {},
   "source": [
    "#### pandas\n",
    "- Pandas means panel data\n",
    "- data is arranged in the form of rows and columns(panel)\n",
    "    - tabular data\n",
    "- used for data analysis,data manipulation and data cleaning\n",
    "    - analysing the dataset/data frame\n",
    "    - conversion/merging multiple datasets\n",
    "    - removal of null data in the dataset\n",
    "- 2 data structures to represent the data\n",
    "    1. Series\n",
    "        - sequential data points arranged either side by side of line by line\n",
    "    2. Data Frame\n",
    "        - 2d structure can represent the data in the form of rows and columns"
   ]
  },
  {
   "cell_type": "code",
   "execution_count": 113,
   "id": "d82042ef",
   "metadata": {},
   "outputs": [],
   "source": [
    "import pandas as pd"
   ]
  },
  {
   "cell_type": "code",
   "execution_count": 114,
   "id": "9cce0a57",
   "metadata": {},
   "outputs": [
    {
     "data": {
      "text/plain": [
       "'1.4.4'"
      ]
     },
     "execution_count": 114,
     "metadata": {},
     "output_type": "execute_result"
    }
   ],
   "source": [
    "pd.__version__"
   ]
  },
  {
   "cell_type": "code",
   "execution_count": 115,
   "id": "d36d8f52",
   "metadata": {
    "collapsed": true
   },
   "outputs": [
    {
     "data": {
      "text/plain": [
       "['BooleanDtype',\n",
       " 'Categorical',\n",
       " 'CategoricalDtype',\n",
       " 'CategoricalIndex',\n",
       " 'DataFrame',\n",
       " 'DateOffset',\n",
       " 'DatetimeIndex',\n",
       " 'DatetimeTZDtype',\n",
       " 'ExcelFile',\n",
       " 'ExcelWriter',\n",
       " 'Flags',\n",
       " 'Float32Dtype',\n",
       " 'Float64Dtype',\n",
       " 'Float64Index',\n",
       " 'Grouper',\n",
       " 'HDFStore',\n",
       " 'Index',\n",
       " 'IndexSlice',\n",
       " 'Int16Dtype',\n",
       " 'Int32Dtype',\n",
       " 'Int64Dtype',\n",
       " 'Int64Index',\n",
       " 'Int8Dtype',\n",
       " 'Interval',\n",
       " 'IntervalDtype',\n",
       " 'IntervalIndex',\n",
       " 'MultiIndex',\n",
       " 'NA',\n",
       " 'NaT',\n",
       " 'NamedAgg',\n",
       " 'Period',\n",
       " 'PeriodDtype',\n",
       " 'PeriodIndex',\n",
       " 'RangeIndex',\n",
       " 'Series',\n",
       " 'SparseDtype',\n",
       " 'StringDtype',\n",
       " 'Timedelta',\n",
       " 'TimedeltaIndex',\n",
       " 'Timestamp',\n",
       " 'UInt16Dtype',\n",
       " 'UInt32Dtype',\n",
       " 'UInt64Dtype',\n",
       " 'UInt64Index',\n",
       " 'UInt8Dtype',\n",
       " '__all__',\n",
       " '__builtins__',\n",
       " '__cached__',\n",
       " '__deprecated_num_index_names',\n",
       " '__dir__',\n",
       " '__doc__',\n",
       " '__docformat__',\n",
       " '__file__',\n",
       " '__getattr__',\n",
       " '__git_version__',\n",
       " '__loader__',\n",
       " '__name__',\n",
       " '__package__',\n",
       " '__path__',\n",
       " '__spec__',\n",
       " '__version__',\n",
       " '_config',\n",
       " '_is_numpy_dev',\n",
       " '_libs',\n",
       " '_testing',\n",
       " '_typing',\n",
       " '_version',\n",
       " 'api',\n",
       " 'array',\n",
       " 'arrays',\n",
       " 'bdate_range',\n",
       " 'compat',\n",
       " 'concat',\n",
       " 'core',\n",
       " 'crosstab',\n",
       " 'cut',\n",
       " 'date_range',\n",
       " 'describe_option',\n",
       " 'errors',\n",
       " 'eval',\n",
       " 'factorize',\n",
       " 'get_dummies',\n",
       " 'get_option',\n",
       " 'infer_freq',\n",
       " 'interval_range',\n",
       " 'io',\n",
       " 'isna',\n",
       " 'isnull',\n",
       " 'json_normalize',\n",
       " 'lreshape',\n",
       " 'melt',\n",
       " 'merge',\n",
       " 'merge_asof',\n",
       " 'merge_ordered',\n",
       " 'notna',\n",
       " 'notnull',\n",
       " 'offsets',\n",
       " 'option_context',\n",
       " 'options',\n",
       " 'pandas',\n",
       " 'period_range',\n",
       " 'pivot',\n",
       " 'pivot_table',\n",
       " 'plotting',\n",
       " 'qcut',\n",
       " 'read_clipboard',\n",
       " 'read_csv',\n",
       " 'read_excel',\n",
       " 'read_feather',\n",
       " 'read_fwf',\n",
       " 'read_gbq',\n",
       " 'read_hdf',\n",
       " 'read_html',\n",
       " 'read_json',\n",
       " 'read_orc',\n",
       " 'read_parquet',\n",
       " 'read_pickle',\n",
       " 'read_sas',\n",
       " 'read_spss',\n",
       " 'read_sql',\n",
       " 'read_sql_query',\n",
       " 'read_sql_table',\n",
       " 'read_stata',\n",
       " 'read_table',\n",
       " 'read_xml',\n",
       " 'reset_option',\n",
       " 'set_eng_float_format',\n",
       " 'set_option',\n",
       " 'show_versions',\n",
       " 'test',\n",
       " 'testing',\n",
       " 'timedelta_range',\n",
       " 'to_datetime',\n",
       " 'to_numeric',\n",
       " 'to_pickle',\n",
       " 'to_timedelta',\n",
       " 'tseries',\n",
       " 'unique',\n",
       " 'util',\n",
       " 'value_counts',\n",
       " 'wide_to_long']"
      ]
     },
     "execution_count": 115,
     "metadata": {},
     "output_type": "execute_result"
    }
   ],
   "source": [
    "dir(pd)"
   ]
  },
  {
   "cell_type": "code",
   "execution_count": 116,
   "id": "d6b3dd4a",
   "metadata": {
    "collapsed": true
   },
   "outputs": [
    {
     "data": {
      "text/plain": [
       "0     hello\n",
       "1         I\n",
       "2        am\n",
       "3     Ruthu\n",
       "4      from\n",
       "5    APSSDC\n",
       "dtype: object"
      ]
     },
     "execution_count": 116,
     "metadata": {},
     "output_type": "execute_result"
    }
   ],
   "source": [
    "#try with str\n",
    "pd.Series(\"hello I am Ruthu from APSSDC\".split())"
   ]
  },
  {
   "cell_type": "code",
   "execution_count": 118,
   "id": "6ac424d3",
   "metadata": {
    "collapsed": true
   },
   "outputs": [
    {
     "data": {
      "text/plain": [
       "6      4\n",
       "7      5\n",
       "8      6\n",
       "9     10\n",
       "20    45\n",
       "dtype: int64"
      ]
     },
     "execution_count": 118,
     "metadata": {},
     "output_type": "execute_result"
    }
   ],
   "source": [
    "#try with tuple\n",
    "#list\n",
    "li=[4,5,6,10,45]\n",
    "pd.Series(li,index=[6,7,8,9,20])"
   ]
  },
  {
   "cell_type": "code",
   "execution_count": 121,
   "id": "6bbd2de8",
   "metadata": {
    "collapsed": true
   },
   "outputs": [
    {
     "data": {
      "text/plain": [
       "one      1\n",
       "two      2\n",
       "three    3\n",
       "dtype: int64"
      ]
     },
     "execution_count": 121,
     "metadata": {},
     "output_type": "execute_result"
    }
   ],
   "source": [
    "\n",
    "# try with dictionary\n",
    "dict1={\"a\":1,\"b\":2,\"c\":3}\n",
    "s=pd.Series(dict1)\n",
    "s.index=['one','two','three']\n",
    "s"
   ]
  },
  {
   "cell_type": "code",
   "execution_count": 127,
   "id": "7e0bb26a",
   "metadata": {},
   "outputs": [
    {
     "data": {
      "text/plain": [
       "2023-03-01    40\n",
       "2023-03-02    45\n",
       "2023-03-03    39\n",
       "2023-03-04    46\n",
       "2023-03-05    47\n",
       "2023-03-06    48\n",
       "2023-03-07    44\n",
       "2023-03-08    42\n",
       "2023-03-09    43\n",
       "2023-03-10    48\n",
       "Freq: D, dtype: int64"
      ]
     },
     "execution_count": 127,
     "metadata": {},
     "output_type": "execute_result"
    }
   ],
   "source": [
    "dates=pd.date_range(\"2023-03-01\",\"2023-03-10\")\n",
    "temp=[40,45,39,46,47,48,44,42,43,48]\n",
    "pd.Series(temp,index=dates)"
   ]
  },
  {
   "cell_type": "code",
   "execution_count": null,
   "id": "26c63302",
   "metadata": {},
   "outputs": [],
   "source": []
  }
 ],
 "metadata": {
  "kernelspec": {
   "display_name": "Python 3 (ipykernel)",
   "language": "python",
   "name": "python3"
  },
  "language_info": {
   "codemirror_mode": {
    "name": "ipython",
    "version": 3
   },
   "file_extension": ".py",
   "mimetype": "text/x-python",
   "name": "python",
   "nbconvert_exporter": "python",
   "pygments_lexer": "ipython3",
   "version": "3.9.13"
  }
 },
 "nbformat": 4,
 "nbformat_minor": 5
}
