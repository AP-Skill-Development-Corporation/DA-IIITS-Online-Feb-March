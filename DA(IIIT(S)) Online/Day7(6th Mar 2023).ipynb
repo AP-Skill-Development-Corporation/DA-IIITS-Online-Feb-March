{
 "cells": [
  {
   "cell_type": "markdown",
   "id": "9cc00c0b",
   "metadata": {},
   "source": [
    "### Day7\n",
    "- Files in python"
   ]
  },
  {
   "cell_type": "markdown",
   "id": "787918e5",
   "metadata": {},
   "source": [
    "### File\n",
    "- anything which has physical existance that can hold the information\n",
    "- different kinds of files in our devices\n",
    "    - .txt,jpg,.mp3,.mp4,.xls,.exe,.doc,.ppt etc\n",
    "- **File Operations**\n",
    "    1. open()\n",
    "    2. read()\n",
    "    3. write()\n",
    "    4. close()"
   ]
  },
  {
   "cell_type": "markdown",
   "id": "ac78ffca",
   "metadata": {},
   "source": [
    "#### open()\n",
    "- opens the existed file in a specific mode\n",
    "- 2 syntaxes to follow to open the file\n",
    "- open(filename,mode)\n",
    "    - mode :\n",
    "        - r stands for read\n",
    "        - w for write\n",
    "        - a for append\n",
    "        - r+ both read and write\n",
    "- with open(filename,mode)"
   ]
  },
  {
   "cell_type": "code",
   "execution_count": 8,
   "id": "5bcbd736",
   "metadata": {
    "collapsed": true
   },
   "outputs": [
    {
     "name": "stdout",
     "output_type": "stream",
     "text": [
      "class Var\n",
      "{\n",
      "\tstatic public void main(String[] args)\n",
      "\t{\n",
      "\tSystem.out.println(\"Working with variables\");\n",
      "\tint n=10,m=15,pin=522503;\n",
      "\tlong mbl=8500602294L;\n",
      "\tfloat gpa=9.0f;\n",
      "\tbyte a=10,b=-25;\n",
      "\tString name=\"Ruthu\",loc=\"kaza\";\n",
      "\tSystem.out.println(\"sum=\"+(m+n));\n",
      "\tSystem.out.println(\"I am \"+name);\n",
      "\tSystem.out.println(\"lives in \"+loc);\n",
      "\tSystem.out.println(\"contact me @ \" + mbl);\n",
      "\tSystem.out.println(\"pincode=\" + pin);\n",
      "\tSystem.out.println(\"a,b in bytes:\" + a+\" \"+ b);+\n",
      "\t}\n",
      "}\n",
      "\t\n"
     ]
    }
   ],
   "source": [
    "file=open('Var.java',\"r\") # open op'n\n",
    "print(file.read()) # read operation"
   ]
  },
  {
   "cell_type": "code",
   "execution_count": 9,
   "id": "4124efab",
   "metadata": {},
   "outputs": [
    {
     "data": {
      "text/plain": [
       "_io.TextIOWrapper"
      ]
     },
     "execution_count": 9,
     "metadata": {},
     "output_type": "execute_result"
    }
   ],
   "source": [
    "type(file) # text var"
   ]
  },
  {
   "cell_type": "code",
   "execution_count": 13,
   "id": "422e0ce5",
   "metadata": {
    "scrolled": true
   },
   "outputs": [
    {
     "name": "stdout",
     "output_type": "stream",
     "text": [
      "class Var\n",
      "{\n",
      "\tstatic publi\n"
     ]
    }
   ],
   "source": [
    "with open('Var.java','r') as jv:\n",
    "    print(jv.read(25)) # first n characters"
   ]
  },
  {
   "cell_type": "markdown",
   "id": "8092f760",
   "metadata": {},
   "source": [
    "#### write()\n",
    "- writes new content into the file\n",
    "- overwrites the existed data in the file\n",
    "- it can create new file\n",
    "- var.write()\n",
    "- var.writelines()"
   ]
  },
  {
   "cell_type": "code",
   "execution_count": 14,
   "id": "7109231b",
   "metadata": {},
   "outputs": [],
   "source": [
    "w=open('new.txt','w') # open is the function\n",
    "w.write(\"this is my first line\") # read/write/close are the methods\n",
    "w.close()"
   ]
  },
  {
   "cell_type": "code",
   "execution_count": 15,
   "id": "40727c89",
   "metadata": {},
   "outputs": [],
   "source": [
    "#3rd function:adds new content/overwirtes the existed content\n",
    "with open(\"new.txt\",\"w\") as wr:\n",
    "    wr.write(\"data gets overwrited...!\")\n",
    "    wr.close()"
   ]
  },
  {
   "cell_type": "markdown",
   "id": "96087538",
   "metadata": {},
   "source": [
    "### append()\n",
    "- append() adds the new data into the existed file\n",
    "- 'a' is the append mode\n",
    "- we will add the new data using write() "
   ]
  },
  {
   "cell_type": "code",
   "execution_count": 16,
   "id": "a13222a1",
   "metadata": {},
   "outputs": [],
   "source": [
    "data=open(\"new.txt\",'a')\n",
    "data.write(\"\\nhello this is new data\\nI am new to programming\\nworking with files\")\n",
    "data.close()"
   ]
  },
  {
   "cell_type": "markdown",
   "id": "04a40f8c",
   "metadata": {},
   "source": [
    "### r+ mode\n",
    "- used for both reading & writing"
   ]
  },
  {
   "cell_type": "code",
   "execution_count": 22,
   "id": "236a4f1e",
   "metadata": {
    "scrolled": true
   },
   "outputs": [
    {
     "name": "stdout",
     "output_type": "stream",
     "text": [
      "print(\"welcome to Data Analysis using python course\")\n",
      "print(\"I am working with files\")print('hello guys welcome all')print('hello guys welcome all')print('hello guys welcome all')print('hello guys welcome all')print('hello guys welcome all')\n"
     ]
    },
    {
     "data": {
      "text/plain": [
       "31"
      ]
     },
     "execution_count": 22,
     "metadata": {},
     "output_type": "execute_result"
    }
   ],
   "source": [
    "var=open(\"first.py\",'r+')\n",
    "print(var.read()) # no.of characters\n",
    "var.write(\"print('hello guys welcome all')\")"
   ]
  },
  {
   "cell_type": "code",
   "execution_count": 28,
   "id": "3212b8cd",
   "metadata": {
    "scrolled": true
   },
   "outputs": [
    {
     "name": "stdout",
     "output_type": "stream",
     "text": [
      "<class '_io.TextIOWrapper'>\n",
      "<class 'list'>\n",
      "<class 'str'>\n"
     ]
    }
   ],
   "source": [
    "# read vs readlines\n",
    "dt=open('first.py','r+') # textual\n",
    "st=dt.read() # str\n",
    "li=dt.readlines() # text converted into list format\n",
    "print(type(dt))\n",
    "print(type(li))\n",
    "print(type(st))"
   ]
  },
  {
   "cell_type": "code",
   "execution_count": 45,
   "id": "1699891b",
   "metadata": {
    "collapsed": true
   },
   "outputs": [
    {
     "name": "stdout",
     "output_type": "stream",
     "text": [
      "['class Var\\n', '{\\n', '\\tstatic public void main(String[] args)\\n', '\\t{\\n', '\\tSystem.out.println(\"Working with variables\");\\n', '\\tint n=10,m=15,pin=522503;\\n', '\\tlong mbl=8500602294L;\\n', '\\tfloat gpa=9.0f;\\n', '\\tbyte a=10,b=-25;\\n', '\\tString name=\"Ruthu\",loc=\"kaza\";\\n', '\\tSystem.out.println(\"sum=\"+(m+n));\\n', '\\tSystem.out.println(\"I am \"+name);\\n', '\\tSystem.out.println(\"lives in \"+loc);\\n', '\\tSystem.out.println(\"contact me @ \" + mbl);\\n', '\\tSystem.out.println(\"pincode=\" + pin);\\n', '\\tSystem.out.println(\"a,b in bytes:\" + a+\" \"+ b);+\\n', '\\t}\\n', '}\\n', '\\t']\n",
      "467\n",
      "34\n"
     ]
    }
   ],
   "source": [
    "java=open(\"Var.java\",'r')\n",
    "print(java.readlines())\n",
    "print(java.tell()) # cursor position:total chars\n",
    "print(java.seek(34))"
   ]
  },
  {
   "cell_type": "code",
   "execution_count": 46,
   "id": "f7ef83fd",
   "metadata": {},
   "outputs": [],
   "source": [
    "# create a new file which should contain 100 chars atleast\n",
    "# no.of alphabets\n",
    "#frequency of digits\n",
    "#frequency of words\n",
    "#frequency of lines"
   ]
  },
  {
   "cell_type": "code",
   "execution_count": 61,
   "id": "906a6c42",
   "metadata": {
    "scrolled": false
   },
   "outputs": [
    {
     "name": "stdout",
     "output_type": "stream",
     "text": [
      "18\n",
      "278\n",
      "26\n",
      "116\n"
     ]
    }
   ],
   "source": [
    "aplabet_count=digit_count=lines_count=word_count=spc=0\n",
    "t=open(\"Var.java\",'r')\n",
    "for i in t.read():\n",
    "    if(i.isdigit()):\n",
    "        digit_count=digit_count+1\n",
    "    elif(i.isalpha()):\n",
    "        aplabet_count=aplabet_count+1\n",
    "    elif (i==\"\\n\"):\n",
    "        lines_count=lines_count+1\n",
    "    elif(i==\" \"):\n",
    "        word_count=word_count+1\n",
    "    else:\n",
    "        spc+=1\n",
    "print(lines_count)\n",
    "#print(character_count)\n",
    "print(aplabet_count)\n",
    "print(digit_count)\n",
    "print(spc)\n",
    "#word count:space"
   ]
  },
  {
   "cell_type": "code",
   "execution_count": 59,
   "id": "471732d0",
   "metadata": {},
   "outputs": [
    {
     "data": {
      "text/plain": [
       "True"
      ]
     },
     "execution_count": 59,
     "metadata": {},
     "output_type": "execute_result"
    }
   ],
   "source": [
    "'r'.isalpha()"
   ]
  },
  {
   "cell_type": "code",
   "execution_count": 67,
   "id": "c60c4400",
   "metadata": {
    "collapsed": true
   },
   "outputs": [
    {
     "name": "stdout",
     "output_type": "stream",
     "text": [
      "c l a s s   V a r \n",
      " { \n",
      " \t s t a t i c   p u b l i c   v o i d   m a i n ( S t r i n g [ ]   a r g s ) \n",
      " \t { \n",
      " \t S y s t e m . o u t . p r i n t l n ( \" W o r k i n g   w i t h   v a r i a b l e s \" ) ; \n",
      " \t i n t   n = 1 0 , m = 1 5 , p i n = 5 2 2 5 0 3 ; \n",
      " \t l o n g   m b l = 8 5 0 0 6 0 2 2 9 4 L ; \n",
      " \t f l o a t   g p a = 9 . 0 f ; \n",
      " \t b y t e   a = 1 0 , b = - 2 5 ; \n",
      " \t S t r i n g   n a m e = \" R u t h u \" , l o c = \" k a z a \" ; \n",
      " \t S y s t e m . o u t . p r i n t l n ( \" s u m = \" + ( m + n ) ) ; \n",
      " \t S y s t e m . o u t . p r i n t l n ( \" I   a m   \" + n a m e ) ; \n",
      " \t S y s t e m . o u t . p r i n t l n ( \" l i v e s   i n   \" + l o c ) ; \n",
      " \t S y s t e m . o u t . p r i n t l n ( \" c o n t a c t   m e   @   \"   +   m b l ) ; \n",
      " \t S y s t e m . o u t . p r i n t l n ( \" p i n c o d e = \"   +   p i n ) ; \n",
      " \t S y s t e m . o u t . p r i n t l n ( \" a , b   i n   b y t e s : \"   +   a + \"   \" +   b ) ; + \n",
      " \t } \n",
      " } \n",
      " \t no.of lines= 467\n",
      "no.of words= 63\n",
      "no.of alphabets= 278\n",
      "no.of digits= 26\n",
      "no.of special chars= 163\n"
     ]
    }
   ],
   "source": [
    "#using nested loop\n",
    "#text file into list of lines:readlines()\n",
    "#lines into words\n",
    "#words into chars/digits/spe\n",
    "con=open(\"Var.java\",'r')\n",
    "lc=wc=chc=dc=spc=0\n",
    "li=con.read()\n",
    "for item in li:\n",
    "    if item.isspace():\n",
    "        wc+=1\n",
    "    for word in item:\n",
    "        for ch in word:\n",
    "            if ch.isalpha():\n",
    "                chc+=1\n",
    "\n",
    "            elif ch.isdigit():\n",
    "                dc+=1\n",
    "            else:\n",
    "                spc+=1\n",
    "    lc+=1\n",
    "print(\"no.of lines=\",lc)\n",
    "print(\"no.of words=\",wc)\n",
    "print(\"no.of alphabets=\",chc)\n",
    "print(\"no.of digits=\",dc)\n",
    "print(\"no.of special chars=\",spc)"
   ]
  },
  {
   "cell_type": "code",
   "execution_count": null,
   "id": "2a674081",
   "metadata": {},
   "outputs": [],
   "source": []
  }
 ],
 "metadata": {
  "kernelspec": {
   "display_name": "Python 3 (ipykernel)",
   "language": "python",
   "name": "python3"
  },
  "language_info": {
   "codemirror_mode": {
    "name": "ipython",
    "version": 3
   },
   "file_extension": ".py",
   "mimetype": "text/x-python",
   "name": "python",
   "nbconvert_exporter": "python",
   "pygments_lexer": "ipython3",
   "version": "3.9.13"
  }
 },
 "nbformat": 4,
 "nbformat_minor": 5
}
